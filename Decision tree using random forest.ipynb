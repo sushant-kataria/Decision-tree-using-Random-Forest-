{
 "cells": [
  {
   "attachments": {},
   "cell_type": "markdown",
   "metadata": {},
   "source": [
    "## POPULARITY OF TED TALKS (Decision tree using random forest algorithm)\n",
    "\n",
    "Data source : Kaggle.com (webscraping from TED.com)\n",
    "Link : https://www.kaggle.com/rounakbanik/ted-talks\n",
    "Time period : 2006-2017\n",
    "Number of records : 2550\n",
    "Number of columns : 17\n",
    "No of Unique identifier : 4\n",
    "\n",
    "\n",
    "We are trying to predict the popularity of ted talks video using some features that we have identified important (preprocessing done separately) such as duration, languages and speaker categories. Out metric to decide the popularity of ted talk video is the total number of views. Total views for a video is available from the published date.\n",
    "To compare views, normalization has to be done. Assumption is that total views follows an exponential distribution with expected mean = 15 days\n",
    "Hence, Recommendation is to record views over time ( eg. Views in first week, Views in first month)\n",
    "\n",
    "Hence Outcome- Success(>0.0003) or failure \n",
    "\n",
    "The dataset was preprocessed and cleaned before importing. \n",
    "\n",
    "### Importing data set :"
   ]
  },
  {
   "cell_type": "code",
   "execution_count": 49,
   "metadata": {
    "scrolled": true
   },
   "outputs": [
    {
     "name": "stdout",
     "output_type": "stream",
     "text": [
      "               duration                 languages  Speaker.Categories  outcome\n",
      "0     Between 10 and 20              More than 30       Author/Writer        0\n",
      "1     Between 10 and 20              More than 30   Activist/Politics        0\n",
      "2          More than 20         Between 21 and 30       Author/Writer        0\n",
      "3     Between 10 and 20              More than 30   Activist/Politics        1\n",
      "4     Between 10 and 20              More than 30   Activist/Politics        0\n",
      "5          More than 20              More than 30          Healthcare        0\n",
      "6     Between 10 and 20              More than 30    Performance Arts        1\n",
      "7     Between 10 and 20  Less than or equal to 20  Architect/Designer        0\n",
      "8          More than 20              More than 30    Science/Research        1\n",
      "9          More than 20              More than 30       Author/Writer        1\n",
      "10         More than 20         Between 21 and 30  Architect/Designer        0\n",
      "11         More than 20  Less than or equal to 20    Performance Arts        1\n",
      "12         More than 20         Between 21 and 30          Healthcare        1\n",
      "13         Less than 10         Between 21 and 30  Architect/Designer        0\n",
      "14    Between 10 and 20         Between 21 and 30              Others        1\n",
      "15         More than 20              More than 30    Performance Arts        1\n",
      "16         More than 20              More than 30    Performance Arts        1\n",
      "17    Between 10 and 20         Between 21 and 30    Science/Research        0\n",
      "18    Between 10 and 20         Between 21 and 30  Architect/Designer        1\n",
      "19         More than 20              More than 30            Business        0\n",
      "20    Between 10 and 20         Between 21 and 30           Education        1\n",
      "21    Between 10 and 20         Between 21 and 30    Performance Arts        0\n",
      "22    Between 10 and 20  Less than or equal to 20       Author/Writer        0\n",
      "23         More than 20              More than 30    Science/Research        0\n",
      "24         More than 20         Between 21 and 30   Activist/Politics        1\n",
      "25    Between 10 and 20         Between 21 and 30    Science/Research        1\n",
      "26         More than 20              More than 30    Science/Research        1\n",
      "27         More than 20         Between 21 and 30           Education        0\n",
      "28    Between 10 and 20              More than 30       Author/Writer        0\n",
      "29         More than 20              More than 30          Healthcare        0\n",
      "...                 ...                       ...                 ...      ...\n",
      "2434  Between 10 and 20  Less than or equal to 20    Science/Research        0\n",
      "2435  Between 10 and 20  Less than or equal to 20    Science/Research        0\n",
      "2436       Less than 10  Less than or equal to 20    Performance Arts        0\n",
      "2437  Between 10 and 20  Less than or equal to 20            Business        0\n",
      "2438       Less than 10  Less than or equal to 20       Author/Writer        0\n",
      "2439  Between 10 and 20  Less than or equal to 20   Activist/Politics        0\n",
      "2440  Between 10 and 20  Less than or equal to 20    Science/Research        0\n",
      "2441  Between 10 and 20  Less than or equal to 20   Activist/Politics        0\n",
      "2442  Between 10 and 20  Less than or equal to 20    Science/Research        0\n",
      "2443  Between 10 and 20  Less than or equal to 20   Activist/Politics        0\n",
      "2444  Between 10 and 20  Less than or equal to 20    Performance Arts        0\n",
      "2445  Between 10 and 20  Less than or equal to 20    Science/Research        0\n",
      "2446  Between 10 and 20  Less than or equal to 20            Business        0\n",
      "2447  Between 10 and 20  Less than or equal to 20    Performance Arts        0\n",
      "2448  Between 10 and 20  Less than or equal to 20       Author/Writer        0\n",
      "2449  Between 10 and 20  Less than or equal to 20   Activist/Politics        0\n",
      "2450  Between 10 and 20  Less than or equal to 20            Business        0\n",
      "2451  Between 10 and 20  Less than or equal to 20       Author/Writer        0\n",
      "2452  Between 10 and 20  Less than or equal to 20           Education        0\n",
      "2453  Between 10 and 20  Less than or equal to 20              Others        0\n",
      "2454  Between 10 and 20  Less than or equal to 20              Others        0\n",
      "2455  Between 10 and 20  Less than or equal to 20    Science/Research        0\n",
      "2456  Between 10 and 20  Less than or equal to 20    Performance Arts        0\n",
      "2457  Between 10 and 20  Less than or equal to 20    Science/Research        0\n",
      "2458  Between 10 and 20  Less than or equal to 20           Education        0\n",
      "2459       Less than 10  Less than or equal to 20       Author/Writer        0\n",
      "2460       Less than 10  Less than or equal to 20    Science/Research        0\n",
      "2461  Between 10 and 20  Less than or equal to 20    Science/Research        0\n",
      "2462  Between 10 and 20  Less than or equal to 20              Others        0\n",
      "2463       Less than 10  Less than or equal to 20  Architect/Designer        0\n",
      "\n",
      "[2464 rows x 4 columns]\n"
     ]
    }
   ],
   "source": [
    "import pandas as pd\n",
    "df = pd.read_csv(\"C:/Users/susha/OneDrive/Desktop/latestdata.csv\")\n",
    "print(df)"
   ]
  },
  {
   "cell_type": "code",
   "execution_count": 50,
   "metadata": {},
   "outputs": [],
   "source": [
    "import pandas as pd\n",
    "import numpy as np\n",
    "from sklearn.tree import DecisionTreeClassifier\n",
    "from sklearn.tree import export_graphviz\n",
    "\n",
    "from sklearn.model_selection import  cross_val_score\n",
    "\n",
    "from sklearn.model_selection import RandomizedSearchCV, GridSearchCV, train_test_split\n"
   ]
  },
  {
   "cell_type": "markdown",
   "metadata": {},
   "source": [
    "### Defining features and outcome to train and test "
   ]
  },
  {
   "cell_type": "code",
   "execution_count": 54,
   "metadata": {},
   "outputs": [],
   "source": [
    "features = [\"duration\",  \"languages\",  \"Speaker.Categories\"]\n",
    "df, targets = encode_target(df, \"outcome\")\n",
    "y = df[\"Target\"]\n",
    "X = df[features]\n",
    "\n"
   ]
  },
  {
   "cell_type": "code",
   "execution_count": 55,
   "metadata": {},
   "outputs": [],
   "source": [
    "from sklearn.model_selection import train_test_split"
   ]
  },
  {
   "cell_type": "markdown",
   "metadata": {},
   "source": [
    "### Fitting the model"
   ]
  },
  {
   "cell_type": "code",
   "execution_count": 60,
   "metadata": {},
   "outputs": [],
   "source": [
    "X_train, X_test, y_train, y_test = train_test_split(X, y, random_state=10, test_size=0.1)\n",
    "import warnings\n",
    "warnings.filterwarnings(\"ignore\")\n",
    "from sklearn.preprocessing import LabelEncoder\n",
    "le=LabelEncoder()\n",
    "\n",
    "le.fit(X_train['duration'].astype(str))\n",
    "X_train['duration']=le.transform(X_train['duration'].astype(str))\n",
    "X_test['duration']=le.transform(X_test['duration'].astype(str))\n",
    "\n",
    "le.fit(X_train['languages'].astype(str))\n",
    "X_train['languages']=le.transform(X_train['languages'].astype(str))\n",
    "X_test['languages']=le.transform(X_test['languages'].astype(str))\n",
    "\n",
    "le.fit(X_train['Speaker.Categories'].astype(str))\n",
    "X_train['Speaker.Categories']=le.transform(X_train['Speaker.Categories'].astype(str))\n",
    "X_test['Speaker.Categories']=le.transform(X_test['Speaker.Categories'].astype(str))\n",
    "\n",
    "\n"
   ]
  },
  {
   "cell_type": "markdown",
   "metadata": {},
   "source": [
    "### Applying GridsearchCV and Random forest algorithm on Decision tree"
   ]
  },
  {
   "cell_type": "code",
   "execution_count": 62,
   "metadata": {},
   "outputs": [
    {
     "data": {
      "text/plain": [
       "GridSearchCV(cv='warn', error_score='raise-deprecating',\n",
       "             estimator=RandomForestClassifier(bootstrap=True, class_weight=None,\n",
       "                                              criterion='gini', max_depth=None,\n",
       "                                              max_features='auto',\n",
       "                                              max_leaf_nodes=None,\n",
       "                                              min_impurity_decrease=0.0,\n",
       "                                              min_impurity_split=None,\n",
       "                                              min_samples_leaf=1,\n",
       "                                              min_samples_split=2,\n",
       "                                              min_weight_fraction_leaf=0.0,\n",
       "                                              n_estimators='warn', n_jobs=None,\n",
       "                                              oob_score=False,\n",
       "                                              random_state=None, verbose=0,\n",
       "                                              warm_start=False),\n",
       "             iid='warn', n_jobs=None,\n",
       "             param_grid={'bootstrap': [True, False],\n",
       "                         'criterion': ['gini', 'entropy'],\n",
       "                         'max_depth': [2, 5, 10],\n",
       "                         'n_estimators': [10, 50, 100]},\n",
       "             pre_dispatch='2*n_jobs', refit=True, return_train_score=False,\n",
       "             scoring=None, verbose=0)"
      ]
     },
     "execution_count": 62,
     "metadata": {},
     "output_type": "execute_result"
    }
   ],
   "source": [
    "from sklearn.model_selection import GridSearchCV\n",
    "from sklearn.ensemble import RandomForestClassifier\n",
    "\n",
    "dt = RandomForestClassifier()\n",
    "# set of parameters to test\n",
    "param_grid = {\"criterion\": [\"gini\", \"entropy\"],\n",
    "              \"max_depth\": [2, 5, 10],\n",
    "               \"bootstrap\" : [True,False],\n",
    "               \"n_estimators\":[10,50,100]\n",
    "               }\n",
    "\n",
    "ts_gs = GridSearchCV(estimator=dt,param_grid=param_grid)\n",
    "ts_gs.fit(X_train,y_train)"
   ]
  },
  {
   "cell_type": "code",
   "execution_count": 63,
   "metadata": {},
   "outputs": [
    {
     "data": {
      "text/plain": [
       "{'bootstrap': True, 'criterion': 'entropy', 'max_depth': 5, 'n_estimators': 50}"
      ]
     },
     "execution_count": 63,
     "metadata": {},
     "output_type": "execute_result"
    }
   ],
   "source": [
    "ts_gs.best_params_"
   ]
  },
  {
   "cell_type": "code",
   "execution_count": 65,
   "metadata": {},
   "outputs": [],
   "source": [
    "dt_bestparams = RandomForestClassifier(criterion='entropy',max_depth=5,bootstrap=False,n_estimators=50)\n"
   ]
  },
  {
   "cell_type": "code",
   "execution_count": 66,
   "metadata": {},
   "outputs": [
    {
     "data": {
      "text/plain": [
       "RandomForestClassifier(bootstrap=False, class_weight=None, criterion='entropy',\n",
       "                       max_depth=5, max_features='auto', max_leaf_nodes=None,\n",
       "                       min_impurity_decrease=0.0, min_impurity_split=None,\n",
       "                       min_samples_leaf=1, min_samples_split=2,\n",
       "                       min_weight_fraction_leaf=0.0, n_estimators=50,\n",
       "                       n_jobs=None, oob_score=False, random_state=None,\n",
       "                       verbose=0, warm_start=False)"
      ]
     },
     "execution_count": 66,
     "metadata": {},
     "output_type": "execute_result"
    }
   ],
   "source": [
    "dt_bestparams.fit(X_train,y_train)"
   ]
  },
  {
   "cell_type": "code",
   "execution_count": 67,
   "metadata": {},
   "outputs": [],
   "source": [
    "predictions = dt_bestparams.predict(X_test)"
   ]
  },
  {
   "cell_type": "code",
   "execution_count": 68,
   "metadata": {},
   "outputs": [],
   "source": [
    "from sklearn import metrics"
   ]
  },
  {
   "cell_type": "markdown",
   "metadata": {},
   "source": [
    "### Result of Accuracy, Precision and Recall for our Decision tree"
   ]
  },
  {
   "cell_type": "code",
   "execution_count": 69,
   "metadata": {},
   "outputs": [
    {
     "name": "stdout",
     "output_type": "stream",
     "text": [
      "Accuracy based on 3 Features: 0.5992\n",
      "Precision based on 3 Features: 0.565\n",
      "Recall based on 3 Features: 0.793\n"
     ]
    }
   ],
   "source": [
    "print(\"Accuracy based on 3 Features:\",round(metrics.accuracy_score(y_test, predictions),4))\n",
    "\n",
    "# Model Precision: what percentage of positive tuples are labeled as such?\n",
    "print(\"Precision based on 3 Features:\",round(metrics.precision_score(y_test, predictions),3))\n",
    "\n",
    "# Model Recall: what percentage of positive tuples are labelled as such?\n",
    "print(\"Recall based on 3 Features:\",round(metrics.recall_score(y_test, predictions),3))"
   ]
  },
  {
   "cell_type": "code",
   "execution_count": 70,
   "metadata": {},
   "outputs": [
    {
     "name": "stdout",
     "output_type": "stream",
     "text": [
      "Recall based on 3 Features: 0.66\n"
     ]
    }
   ],
   "source": [
    "print(\"Recall based on 3 Features:\",round(metrics.f1_score(y_test, predictions),3))"
   ]
  },
  {
   "cell_type": "code",
   "execution_count": 72,
   "metadata": {},
   "outputs": [
    {
     "data": {
      "text/plain": [
       "(2217,)"
      ]
     },
     "execution_count": 72,
     "metadata": {},
     "output_type": "execute_result"
    }
   ],
   "source": [
    "y_train.shape"
   ]
  },
  {
   "cell_type": "markdown",
   "metadata": {},
   "source": [
    "from sklearn.ensemble import RandomForestRegressor\n",
    "import pydot\n",
    "rf_small = RandomForestRegressor(n_estimators=10, max_depth = 3, random_state=42)\n",
    "rf_small.fit(X_train, y_train)\n",
    "\n",
    "# Extract the small tree\n",
    "tree_small = rf_small.estimators_[5]\n",
    "\n",
    "# Save the tree as a png image\n",
    "export_graphviz(tree_small, out_file = 'small_tree.dot', feature_names = features, rounded = True, precision = 1)\n",
    "\n",
    "(graph, ) = pydot.graph_from_dot_file('small_tree.dot')\n",
    "\n",
    "graph.write_png('small_tree.png')"
   ]
  }
 ],
 "metadata": {
  "kernelspec": {
   "display_name": "Python 3",
   "language": "python",
   "name": "python3"
  },
  "language_info": {
   "codemirror_mode": {
    "name": "ipython",
    "version": 3
   },
   "file_extension": ".py",
   "mimetype": "text/x-python",
   "name": "python",
   "nbconvert_exporter": "python",
   "pygments_lexer": "ipython3",
   "version": "3.7.3"
  }
 },
 "nbformat": 4,
 "nbformat_minor": 2
}
